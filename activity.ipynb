{
 "cells": [
  {
   "cell_type": "code",
   "execution_count": 1,
   "metadata": {},
   "outputs": [],
   "source": [
    "from flask import Flask\n",
    "import mysql.connector\n",
    "import json\n",
    "\n",
    "app = Flask(__name__)\n",
    "app.config['SECRET_KEY'] = 'fbfbaehfbhaekwfkjebfjk'\n",
    "\n",
    "mydb = mysql.connector.connect(\n",
    "    host=\"localhost\",\n",
    "    user=\"root\",\n",
    "    password=\"root1234\",\n",
    "    database=\"activity\"\n",
    ")\n",
    "\n",
    "mycursor = mydb.cursor()\n",
    "\n",
    "mycursor.execute(\"CREATE TABLE products99 (id INT AUTO_INCREMENT PRIMARY KEY, name VARCHAR(255), price FLOAT)\")\n",
    "mycursor.execute(\"CREATE TABLE cart99 (id INT AUTO_INCREMENT PRIMARY KEY, product_id INT, quantity INT)\")\n",
    "mycursor.execute(\"CREATE TABLE orders99 (id INT AUTO_INCREMENT PRIMARY KEY, product_id INT, quantity INT, customer_name VARCHAR(255))\")\n",
    "\n",
    "product_data = [\n",
    "    (\"Shirt\", 20),\n",
    "    (\"Pants\", 30),\n",
    "    (\"Dress\", 39)\n",
    "]\n",
    "\n",
    "cart_data = [\n",
    "    (1, 2),\n",
    "    (2, 1)\n",
    "]\n",
    "\n",
    "order_data = [\n",
    "    (1, 2, \"rohan\"),\n",
    "    (2, 1, \"goku\")\n",
    "]\n",
    "\n",
    "insert_products = \"INSERT INTO products99 (name, price) VALUES (%s, %s)\"\n",
    "mycursor.executemany(insert_products, product_data)\n",
    "\n",
    "insert_cart = \"INSERT INTO cart99 (product_id, quantity) VALUES (%s, %s)\"\n",
    "mycursor.executemany(insert_cart, cart_data)\n",
    "\n",
    "insert_orders = \"INSERT INTO orders99 (product_id, quantity, customer_name) VALUES (%s, %s, %s)\"\n",
    "mycursor.executemany(insert_orders, order_data)"
   ]
  },
  {
   "cell_type": "code",
   "execution_count": 2,
   "metadata": {},
   "outputs": [
    {
     "name": "stdout",
     "output_type": "stream",
     "text": [
      "(1, 'Shirt', 20.0)\n",
      "(2, 'Pants', 30.0)\n",
      "(3, 'Dress', 39.0)\n"
     ]
    }
   ],
   "source": [
    "mydb.commit()\n",
    "\n",
    "selectquery = \"select * from products99\"\n",
    "mycursor.execute(selectquery)\n",
    "\n",
    "rows = mycursor.fetchall()\n",
    "\n",
    "for row in rows:\n",
    "    print(row)"
   ]
  },
  {
   "cell_type": "code",
   "execution_count": 8,
   "metadata": {},
   "outputs": [
    {
     "ename": "AssertionError",
     "evalue": "View function mapping is overwriting an existing endpoint function: products",
     "output_type": "error",
     "traceback": [
      "\u001b[0;31m---------------------------------------------------------------------------\u001b[0m",
      "\u001b[0;31mAssertionError\u001b[0m                            Traceback (most recent call last)",
      "Cell \u001b[0;32mIn[8], line 6\u001b[0m\n\u001b[1;32m      1\u001b[0m \u001b[39m# @app.route('/')\u001b[39;00m\n\u001b[1;32m      2\u001b[0m \u001b[39m# def home():\u001b[39;00m\n\u001b[1;32m      3\u001b[0m \u001b[39m#     return \"Welcome to the Cloth Store!\"\u001b[39;00m\n\u001b[1;32m      5\u001b[0m \u001b[39m@app\u001b[39;49m\u001b[39m.\u001b[39;49mroute(\u001b[39m'\u001b[39;49m\u001b[39m/\u001b[39;49m\u001b[39m'\u001b[39;49m)\n\u001b[0;32m----> 6\u001b[0m \u001b[39mdef\u001b[39;49;00m \u001b[39mproducts\u001b[39;49m():\n\u001b[1;32m      7\u001b[0m     cursor \u001b[39m=\u001b[39;49m mydb\u001b[39m.\u001b[39;49mcursor()\n\u001b[1;32m      8\u001b[0m     cursor\u001b[39m.\u001b[39;49mexecute(\u001b[39m\"\u001b[39;49m\u001b[39mSELECT * FROM products\u001b[39;49m\u001b[39m\"\u001b[39;49m)\n",
      "File \u001b[0;32m/Library/Frameworks/Python.framework/Versions/3.9/lib/python3.9/site-packages/flask/scaffold.py:435\u001b[0m, in \u001b[0;36mScaffold.route.<locals>.decorator\u001b[0;34m(f)\u001b[0m\n\u001b[1;32m    433\u001b[0m \u001b[39mdef\u001b[39;00m \u001b[39mdecorator\u001b[39m(f: t\u001b[39m.\u001b[39mCallable) \u001b[39m-\u001b[39m\u001b[39m>\u001b[39m t\u001b[39m.\u001b[39mCallable:\n\u001b[1;32m    434\u001b[0m     endpoint \u001b[39m=\u001b[39m options\u001b[39m.\u001b[39mpop(\u001b[39m\"\u001b[39m\u001b[39mendpoint\u001b[39m\u001b[39m\"\u001b[39m, \u001b[39mNone\u001b[39;00m)\n\u001b[0;32m--> 435\u001b[0m     \u001b[39mself\u001b[39;49m\u001b[39m.\u001b[39;49madd_url_rule(rule, endpoint, f, \u001b[39m*\u001b[39;49m\u001b[39m*\u001b[39;49moptions)\n\u001b[1;32m    436\u001b[0m     \u001b[39mreturn\u001b[39;00m f\n",
      "File \u001b[0;32m/Library/Frameworks/Python.framework/Versions/3.9/lib/python3.9/site-packages/flask/scaffold.py:56\u001b[0m, in \u001b[0;36msetupmethod.<locals>.wrapper_func\u001b[0;34m(self, *args, **kwargs)\u001b[0m\n\u001b[1;32m     45\u001b[0m \u001b[39mif\u001b[39;00m \u001b[39mself\u001b[39m\u001b[39m.\u001b[39m_is_setup_finished():\n\u001b[1;32m     46\u001b[0m     \u001b[39mraise\u001b[39;00m \u001b[39mAssertionError\u001b[39;00m(\n\u001b[1;32m     47\u001b[0m         \u001b[39m\"\u001b[39m\u001b[39mA setup function was called after the first request \u001b[39m\u001b[39m\"\u001b[39m\n\u001b[1;32m     48\u001b[0m         \u001b[39m\"\u001b[39m\u001b[39mwas handled. This usually indicates a bug in the\u001b[39m\u001b[39m\"\u001b[39m\n\u001b[0;32m   (...)\u001b[0m\n\u001b[1;32m     54\u001b[0m         \u001b[39m\"\u001b[39m\u001b[39m requests.\u001b[39m\u001b[39m\"\u001b[39m\n\u001b[1;32m     55\u001b[0m     )\n\u001b[0;32m---> 56\u001b[0m \u001b[39mreturn\u001b[39;00m f(\u001b[39mself\u001b[39;49m, \u001b[39m*\u001b[39;49margs, \u001b[39m*\u001b[39;49m\u001b[39m*\u001b[39;49mkwargs)\n",
      "File \u001b[0;32m/Library/Frameworks/Python.framework/Versions/3.9/lib/python3.9/site-packages/flask/app.py:1092\u001b[0m, in \u001b[0;36mFlask.add_url_rule\u001b[0;34m(self, rule, endpoint, view_func, provide_automatic_options, **options)\u001b[0m\n\u001b[1;32m   1090\u001b[0m old_func \u001b[39m=\u001b[39m \u001b[39mself\u001b[39m\u001b[39m.\u001b[39mview_functions\u001b[39m.\u001b[39mget(endpoint)\n\u001b[1;32m   1091\u001b[0m \u001b[39mif\u001b[39;00m old_func \u001b[39mis\u001b[39;00m \u001b[39mnot\u001b[39;00m \u001b[39mNone\u001b[39;00m \u001b[39mand\u001b[39;00m old_func \u001b[39m!=\u001b[39m view_func:\n\u001b[0;32m-> 1092\u001b[0m     \u001b[39mraise\u001b[39;00m \u001b[39mAssertionError\u001b[39;00m(\n\u001b[1;32m   1093\u001b[0m         \u001b[39m\"\u001b[39m\u001b[39mView function mapping is overwriting an existing\u001b[39m\u001b[39m\"\u001b[39m\n\u001b[1;32m   1094\u001b[0m         \u001b[39mf\u001b[39m\u001b[39m\"\u001b[39m\u001b[39m endpoint function: \u001b[39m\u001b[39m{\u001b[39;00mendpoint\u001b[39m}\u001b[39;00m\u001b[39m\"\u001b[39m\n\u001b[1;32m   1095\u001b[0m     )\n\u001b[1;32m   1096\u001b[0m \u001b[39mself\u001b[39m\u001b[39m.\u001b[39mview_functions[endpoint] \u001b[39m=\u001b[39m view_func\n",
      "\u001b[0;31mAssertionError\u001b[0m: View function mapping is overwriting an existing endpoint function: products"
     ]
    }
   ],
   "source": [
    "# @app.route('/')\n",
    "# def home():\n",
    "#     return \"Welcome to the Cloth Store!\"\n",
    "\n",
    "@app.route('/')\n",
    "def products():\n",
    "    cursor = mydb.cursor()\n",
    "    cursor.execute(\"SELECT * FROM products99\")\n",
    "    products = cursor.fetchall()\n",
    "    for p in products:\n",
    "        print(p)\n",
    "    return\n",
    "    # return json.dumps(products)\n",
    "\n",
    "@app.route('/cart')\n",
    "def cart():\n",
    "    cursor = mydb.cursor()\n",
    "    cursor.execute(\"SELECT * FROM cart99\")\n",
    "    cart_items = cursor.fetchall()\n",
    "    for c in cart_items:\n",
    "        print(c)\n",
    "    return\n",
    "    # return json.dumps(cart_items)\n",
    "\n",
    "@app.route('/orders')\n",
    "def orders():\n",
    "    cursor = mydb.cursor()\n",
    "    cursor.execute(\"SELECT * FROM orders99\")\n",
    "    orders = cursor.fetchall()\n",
    "    for o in orders:\n",
    "        print(o)\n",
    "    return\n",
    "    # return json.dumps(orders)\n",
    "\n",
    "if __name__ == '__main__':\n",
    "    app.run(debug=True,port = 8000)\n"
   ]
  },
  {
   "cell_type": "code",
   "execution_count": null,
   "metadata": {},
   "outputs": [],
   "source": []
  }
 ],
 "metadata": {
  "kernelspec": {
   "display_name": "Python 3",
   "language": "python",
   "name": "python3"
  },
  "language_info": {
   "codemirror_mode": {
    "name": "ipython",
    "version": 3
   },
   "file_extension": ".py",
   "mimetype": "text/x-python",
   "name": "python",
   "nbconvert_exporter": "python",
   "pygments_lexer": "ipython3",
   "version": "3.9.0"
  },
  "orig_nbformat": 4
 },
 "nbformat": 4,
 "nbformat_minor": 2
}
